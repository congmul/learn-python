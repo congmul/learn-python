{
 "cells": [
  {
   "cell_type": "code",
   "execution_count": 1,
   "metadata": {},
   "outputs": [],
   "source": [
    "# Numpy\n",
    "# Numpy is what is happening in the background Pandas\n",
    "# Numpy is built on C++\n",
    "# We could potentially do everything we are about ourselves\n",
    "# But that would be incredibly ineffectient an take a lot of time"
   ]
  },
  {
   "cell_type": "code",
   "execution_count": 2,
   "metadata": {},
   "outputs": [],
   "source": [
    "# Numpy is a lot more effiecient than Python\n",
    "# Numpy is ~50x - 100x faster than Python\n",
    "# Arrays, C++ Arrays = Contiguous memory, optimized searches\n",
    "# Lists in python, can contain multiple types, and are not \"Arrays\"\n",
    "# Numpy Arrays are all one data type, and it is stored in an nd-array"
   ]
  },
  {
   "cell_type": "code",
   "execution_count": 4,
   "metadata": {},
   "outputs": [
    {
     "name": "stdout",
     "output_type": "stream",
     "text": [
      "2.1.3\n"
     ]
    }
   ],
   "source": [
    "# Let's start using it\n",
    "import numpy as np\n",
    "\n",
    "print(np.__version__)"
   ]
  },
  {
   "cell_type": "code",
   "execution_count": 35,
   "metadata": {},
   "outputs": [
    {
     "name": "stdout",
     "output_type": "stream",
     "text": [
      "<class 'numpy.ndarray'>\n",
      "[1 2 3 4 5]\n",
      "[1, 2, 3, 4, 5]\n"
     ]
    }
   ],
   "source": [
    "# Creating an array\n",
    "arr = np.array([1, 2, 3, 4, 5])\n",
    "list = [1, 2, 3, 4, 5]\n",
    "print(type(arr))\n",
    "\n",
    "# np array doesn't have comma between the value (index)\n",
    "\n",
    "print(arr)\n",
    "print(list)"
   ]
  },
  {
   "cell_type": "code",
   "execution_count": 36,
   "metadata": {},
   "outputs": [
    {
     "name": "stdout",
     "output_type": "stream",
     "text": [
      "42\n",
      "[1 2 3 4 5]\n",
      "[[1 2 3]\n",
      " [4 5 6]]\n",
      "[[[ 1  2  3]\n",
      "  [ 4  5  6]]\n",
      "\n",
      " [[ 7  8  9]\n",
      "  [10 11 12]]]\n",
      "\n",
      "Dimentsions\n",
      "0 1 2 3\n"
     ]
    }
   ],
   "source": [
    "# Dimensions - n-dimensional array\n",
    "# 0D ~ 3D arrays\n",
    "zero_arr = np.array(42)\n",
    "print(zero_arr)\n",
    "\n",
    "# 1D Array AKA a Array\n",
    "one_arr = np.array([1, 2, 3, 4, 5])\n",
    "print(one_arr)\n",
    "\n",
    "# 2D Array AKA a Matrix\n",
    "two_arr = np.array([[1, 2, 3], [4, 5, 6]])\n",
    "print(two_arr)\n",
    "\n",
    "# 3D Array AKA a Tensor\n",
    "three_arr = np.array([[[1, 2, 3], [4, 5, 6]], [[7, 8, 9], [10, 11, 12]]])\n",
    "print(three_arr)\n",
    "\n",
    "print(\"\\nDimentsions\")\n",
    "print(zero_arr.ndim, one_arr.ndim, two_arr.ndim, three_arr.ndim)\n"
   ]
  },
  {
   "cell_type": "code",
   "execution_count": 37,
   "metadata": {},
   "outputs": [
    {
     "name": "stdout",
     "output_type": "stream",
     "text": [
      "2\n",
      "2\n",
      "12\n"
     ]
    }
   ],
   "source": [
    "# Indexing into our nd arrays\n",
    "\n",
    "# Python indexing - Do not do this, we have to use numpy indexing\n",
    "print(two_arr[0][1])\n",
    "\n",
    "# Numpy indexing\n",
    "print(two_arr[0, 1])\n",
    "\n",
    "print(three_arr[1, 1, 2])\n"
   ]
  },
  {
   "cell_type": "code",
   "execution_count": 43,
   "metadata": {},
   "outputs": [
    {
     "name": "stdout",
     "output_type": "stream",
     "text": [
      "int64\n",
      "float32\n",
      "|S32\n"
     ]
    }
   ],
   "source": [
    "# Numpy arrays are a single data type\n",
    "\n",
    "# Numpy has its own data types - only one type is allowed\n",
    "\n",
    "# i - integers up int64\n",
    "# b - boolean\n",
    "# u - unsigned ints\n",
    "# f - float - float128\n",
    "# c - complex\n",
    "# m - timedelta\n",
    "# M - datetime\n",
    "# O - object\n",
    "# S - string\n",
    "# U - unicode strings\n",
    "# V - void type - fixed chunk of memory that is reserved\n",
    "\n",
    "print(arr.dtype)\n",
    "\n",
    "arr2 = np.array([1, 2, 3, 4, 5, 6], dtype='f')\n",
    "new_arr = arr2.astype('S')\n",
    "\n",
    "print(arr2.dtype)\n",
    "print(new_arr.dtype)"
   ]
  },
  {
   "cell_type": "code",
   "execution_count": 47,
   "metadata": {},
   "outputs": [
    {
     "name": "stdout",
     "output_type": "stream",
     "text": [
      "(5,)\n",
      "(2, 3)\n",
      "(2, 2, 3)\n"
     ]
    }
   ],
   "source": [
    "# Checking our matrixes shape\n",
    "\n",
    "print(arr.shape)\n",
    "print(two_arr.shape)\n",
    "print(three_arr.shape)"
   ]
  },
  {
   "cell_type": "code",
   "execution_count": 51,
   "metadata": {},
   "outputs": [
    {
     "name": "stdout",
     "output_type": "stream",
     "text": [
      "[ 1  2  3  4  5  6  7  8  9 10 11 12]\n",
      "[[ 1  2  3]\n",
      " [ 4  5  6]\n",
      " [ 7  8  9]\n",
      " [10 11 12]]\n"
     ]
    }
   ],
   "source": [
    "# Reshape array\n",
    "reShapedArr = np.array([1, 2, 3, 4, 5, 6, 7, 8, 9, 10, 11, 12])\n",
    "print(reShapedArr)\n",
    "new_arr_2 = reShapedArr.reshape([4, 3]) # [row, col]\n",
    "print(new_arr_2)"
   ]
  },
  {
   "cell_type": "code",
   "execution_count": 52,
   "metadata": {},
   "outputs": [
    {
     "name": "stdout",
     "output_type": "stream",
     "text": [
      "[[ 1  2  3  4]\n",
      " [ 5  6  7  8]\n",
      " [ 9 10 11 12]]\n"
     ]
    }
   ],
   "source": [
    "# If we do not know our full dimensions we can substitute in a  -1\n",
    "new_arr_3 = reShapedArr.reshape(3, -1)\n",
    "print(new_arr_3)"
   ]
  },
  {
   "cell_type": "code",
   "execution_count": 53,
   "metadata": {},
   "outputs": [
    {
     "name": "stdout",
     "output_type": "stream",
     "text": [
      "[ 1  2  3  4  5  6  7  8  9 10 11 12]\n"
     ]
    }
   ],
   "source": [
    "# To flatten our arrays, get back to 1-d array\n",
    "reShapedArr = new_arr_3.reshape(-1)\n",
    "\n",
    "print(reShapedArr)\n",
    "\n"
   ]
  },
  {
   "cell_type": "code",
   "execution_count": 56,
   "metadata": {},
   "outputs": [
    {
     "name": "stdout",
     "output_type": "stream",
     "text": [
      "1\n",
      "2\n",
      "3\n",
      "4\n",
      "5\n",
      "6\n",
      "7\n",
      "8\n",
      "9\n",
      "10\n",
      "11\n",
      "12\n"
     ]
    }
   ],
   "source": [
    "# Iterating through arrays\n",
    "for x in np.nditer(three_arr):\n",
    "    print(x)"
   ]
  },
  {
   "cell_type": "code",
   "execution_count": 61,
   "metadata": {},
   "outputs": [
    {
     "name": "stdout",
     "output_type": "stream",
     "text": [
      "[[1 2]\n",
      " [3 4]\n",
      " [5 6]\n",
      " [7 8]]\n",
      "[[1 2 5 6]\n",
      " [3 4 7 8]]\n"
     ]
    }
   ],
   "source": [
    "# Joining arrays\n",
    "# Join based on axis\n",
    "# axis = 0 is based on rows, axis = 1 is based on columns\n",
    "\n",
    "arr1 = np.array([[1, 2], [3, 4]])\n",
    "arr2 = np.array([[5, 6], [7, 8]])\n",
    "arr = np.concatenate((arr1, arr2), axis = 0)\n",
    "print(arr)\n",
    "\n",
    "arrBasedCol = np.concatenate((arr1, arr2), axis = 1)\n",
    "print(arrBasedCol)"
   ]
  },
  {
   "cell_type": "code",
   "execution_count": 65,
   "metadata": {},
   "outputs": [
    {
     "name": "stdout",
     "output_type": "stream",
     "text": [
      "[[1 2 3]\n",
      " [4 5 6]]\n",
      "[1 2 3 4 5 6]\n",
      "[[[1 4]\n",
      "  [2 5]\n",
      "  [3 6]]]\n"
     ]
    }
   ],
   "source": [
    "# Stacking\n",
    "# Stack(), hstack(), dstack()\n",
    "arr1 = np.array([1, 2, 3])\n",
    "arr2 = np.array([4, 5, 6])\n",
    "arr = np.stack((arr1, arr2))\n",
    "\n",
    "print(arr)\n",
    "\n",
    "arrHrizontal = np.hstack((arr1, arr2))\n",
    "print(arrHrizontal)\n",
    "\n",
    "arrDepth = np.dstack((arr1, arr2))\n",
    "print(arrDepth)"
   ]
  },
  {
   "cell_type": "code",
   "execution_count": 66,
   "metadata": {},
   "outputs": [
    {
     "name": "stdout",
     "output_type": "stream",
     "text": [
      "[array([1, 2]), array([3, 4]), array([5]), array([6])]\n"
     ]
    }
   ],
   "source": [
    "# Split array into n number of parts\n",
    "\n",
    "arr = np.array([1, 2, 3, 4, 5, 6])\n",
    "new_arr = np.array_split(arr, 4)\n",
    "print(new_arr)"
   ]
  },
  {
   "cell_type": "code",
   "execution_count": 76,
   "metadata": {},
   "outputs": [
    {
     "name": "stdout",
     "output_type": "stream",
     "text": [
      "(array([3, 6, 7]),)\n"
     ]
    }
   ],
   "source": [
    "# Searching our arrays is done with the where() mehtod\n",
    "\n",
    "arr = np.array([1, 2, 3, 4, 5, 6, 4, 4])\n",
    "x = np.where(arr == 4) # return indexes which their value is matched with \"4\"\n",
    "\n",
    "print(x)"
   ]
  },
  {
   "cell_type": "code",
   "execution_count": 77,
   "metadata": {},
   "outputs": [
    {
     "name": "stdout",
     "output_type": "stream",
     "text": [
      "8\n"
     ]
    }
   ],
   "source": [
    "# Searchsorted()\n",
    "\n",
    "arr = np.array([1, 2, 3, 4, 5, 6, 4, 4])\n",
    "x = np.searchsorted(arr, 6) # return indexes which their value is matched with \"6\" after sorted\n",
    "print(x)"
   ]
  },
  {
   "cell_type": "code",
   "execution_count": 78,
   "metadata": {},
   "outputs": [
    {
     "name": "stdout",
     "output_type": "stream",
     "text": [
      "[[1 2 5]\n",
      " [3 6 9]]\n"
     ]
    }
   ],
   "source": [
    "# Sorting arrays\n",
    "# Can still use the python sort() method\n",
    "# or use np.sort() method\n",
    "\n",
    "arr = np.array([[5, 2, 1], [6, 3, 9]])\n",
    "\n",
    "print(np.sort(arr))"
   ]
  },
  {
   "cell_type": "code",
   "execution_count": 80,
   "metadata": {},
   "outputs": [
    {
     "name": "stdout",
     "output_type": "stream",
     "text": [
      "[ 41 430]\n"
     ]
    }
   ],
   "source": [
    "# Filtering our arrays\n",
    "# Filter based off a condition\n",
    "# or we can use a boolean array\n",
    "\n",
    "arr = np.array([40, 41, 42, 430])\n",
    "\n",
    "x = [False, True, False, True]\n",
    "\n",
    "filtered_arr = arr[x] # return a valu of the index placed with True\n",
    "\n",
    "print(filtered_arr)"
   ]
  },
  {
   "cell_type": "code",
   "execution_count": 84,
   "metadata": {},
   "outputs": [
    {
     "name": "stdout",
     "output_type": "stream",
     "text": [
      "[15  2  3  4]\n",
      "[15  2  3  4]\n",
      "[1 2 3 4]\n",
      "[15  2  3  4]\n",
      "None\n"
     ]
    }
   ],
   "source": [
    "# Copies vs Views\n",
    "# When we work with Big Data, we need to carefully consider what we copy\n",
    "# Use a View - It is the same as reference in Javascript\n",
    "\n",
    "arr = np.array([1, 2, 3, 4])\n",
    "view = arr.view()\n",
    "copy = arr.copy()\n",
    "arr[0] = 15\n",
    "print(arr)\n",
    "print(view)\n",
    "print(copy)\n",
    "\n",
    "print(view.base)\n",
    "print(copy.base) # it will be None because it didn't reference to any"
   ]
  },
  {
   "cell_type": "code",
   "execution_count": 85,
   "metadata": {},
   "outputs": [],
   "source": [
    "import time"
   ]
  },
  {
   "cell_type": "code",
   "execution_count": 92,
   "metadata": {},
   "outputs": [
    {
     "name": "stdout",
     "output_type": "stream",
     "text": [
      "0.1332719326019287\n"
     ]
    }
   ],
   "source": [
    "# Use Python List\n",
    "start = time.time()\n",
    "list = [i for i in range(1_000_000)]\n",
    "squared = [x**2 for x in list]\n",
    "stop =time.time()\n",
    "\n",
    "print(stop-start)"
   ]
  },
  {
   "cell_type": "code",
   "execution_count": 94,
   "metadata": {},
   "outputs": [
    {
     "name": "stdout",
     "output_type": "stream",
     "text": [
      "0.0044667720794677734\n"
     ]
    }
   ],
   "source": [
    "# Use Numpy arr\n",
    "start = time.time()\n",
    "arr = np.arange(1_000_000)\n",
    "squared = arr**2\n",
    "stop =time.time()\n",
    "\n",
    "print(stop-start)"
   ]
  },
  {
   "cell_type": "code",
   "execution_count": null,
   "metadata": {},
   "outputs": [],
   "source": []
  }
 ],
 "metadata": {
  "kernelspec": {
   "display_name": ".venv",
   "language": "python",
   "name": "python3"
  },
  "language_info": {
   "codemirror_mode": {
    "name": "ipython",
    "version": 3
   },
   "file_extension": ".py",
   "mimetype": "text/x-python",
   "name": "python",
   "nbconvert_exporter": "python",
   "pygments_lexer": "ipython3",
   "version": "3.13.0"
  }
 },
 "nbformat": 4,
 "nbformat_minor": 2
}
