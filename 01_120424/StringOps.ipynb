{
 "cells": [
  {
   "cell_type": "markdown",
   "metadata": {},
   "source": [
    "# String Operation"
   ]
  },
  {
   "cell_type": "code",
   "execution_count": 15,
   "metadata": {},
   "outputs": [],
   "source": [
    "string = \"  hello world!    \""
   ]
  },
  {
   "cell_type": "code",
   "execution_count": 16,
   "metadata": {},
   "outputs": [
    {
     "name": "stdout",
     "output_type": "stream",
     "text": [
      "e\n"
     ]
    }
   ],
   "source": [
    "# char\n",
    "print(string[3])"
   ]
  },
  {
   "cell_type": "code",
   "execution_count": 17,
   "metadata": {},
   "outputs": [
    {
     "name": "stdout",
     "output_type": "stream",
     "text": [
      " \n",
      " \n",
      "h\n",
      "e\n",
      "L\n",
      "L\n",
      "o\n",
      " \n",
      "w\n",
      "o\n",
      "r\n",
      "L\n",
      "d\n",
      "!\n",
      " \n",
      " \n",
      " \n",
      " \n"
     ]
    }
   ],
   "source": [
    "for char in string:\n",
    "    if(char == \"l\"):\n",
    "        print(char.upper())\n",
    "    else:\n",
    "        print(char.lower())"
   ]
  },
  {
   "cell_type": "code",
   "execution_count": 18,
   "metadata": {},
   "outputs": [
    {
     "name": "stdout",
     "output_type": "stream",
     "text": [
      "  Hello World!    \n"
     ]
    }
   ],
   "source": [
    "print(string.title())"
   ]
  },
  {
   "cell_type": "code",
   "execution_count": 26,
   "metadata": {},
   "outputs": [
    {
     "name": "stdout",
     "output_type": "stream",
     "text": [
      "  hello world!    \n",
      "hello world!\n",
      ",,,,grHello,,,,world,,,!\n",
      "grHello,,,,world,,,!\n",
      "grHello,,,,world\n",
      "['hello', 'world!']\n"
     ]
    }
   ],
   "source": [
    "print(string)\n",
    "print(string.strip())\n",
    "\n",
    "diff_string = \",,,,grHello,,,,world,,,!\"\n",
    "print(diff_string)\n",
    "print(diff_string.strip(\",Hello\"))\n",
    "print(diff_string.strip(\",!\"))\n",
    "\n",
    "# Splitting a string\n",
    "# Remove trailing white spaces and spilt by white space.\n",
    "print(string.split())"
   ]
  },
  {
   "cell_type": "code",
   "execution_count": 31,
   "metadata": {},
   "outputs": [
    {
     "name": "stdout",
     "output_type": "stream",
     "text": [
      "ThisString\n",
      "33333\n"
     ]
    }
   ],
   "source": [
    "# Math on a String\n",
    "\n",
    "str1 = \"This\"\n",
    "str2 = \"String\"\n",
    "str3 = \"3\"\n",
    "num = 5\n",
    "print(str1 + str2)\n",
    "print(str3 * num)"
   ]
  },
  {
   "cell_type": "code",
   "execution_count": 36,
   "metadata": {},
   "outputs": [
    {
     "name": "stdout",
     "output_type": "stream",
     "text": [
      "That is \n",
      " a new line. \"Hi\" \n",
      "♚\n"
     ]
    }
   ],
   "source": [
    "# Escape Character\n",
    "# \\\n",
    "\n",
    "print(\"That is \\n a new line. \\\"Hi\\\" \")\n",
    "\n",
    "# Special String Encoding\n",
    "# We use UTF-8\n",
    "print('\\u265A')"
   ]
  },
  {
   "cell_type": "code",
   "execution_count": 46,
   "metadata": {},
   "outputs": [
    {
     "name": "stdout",
     "output_type": "stream",
     "text": [
      "10 people will graduate with 100 Grade\n",
      "1.23 - 1.2\n",
      "10 people will graduate with 20 grade. test: t\n"
     ]
    }
   ],
   "source": [
    "# String formatting\n",
    "x = 10\n",
    "y = 100\n",
    "\n",
    "z = 1.2345\n",
    "a = 1.2345\n",
    "print(f\"{x} people will graduate with {y} Grade\")\n",
    "print(f\"{z:.2f} - {a:.1f}\")\n",
    "\n",
    "string2 = \"{0} people will graduate with {1} grade. test: {2}\"\n",
    "print(string2.format(10, 20, \"t\"))"
   ]
  },
  {
   "cell_type": "code",
   "execution_count": 49,
   "metadata": {},
   "outputs": [
    {
     "name": "stdout",
     "output_type": "stream",
     "text": [
      "True\n",
      "this is getting something new\n"
     ]
    }
   ],
   "source": [
    "# check if dog is includes in dogma.\n",
    "print(\"dog\" in \"dogma\")\n",
    "\n",
    "# Replace function\n",
    "string3 = \"this is getting replaced\"\n",
    "string4 = string3.replace(\"replaced\", \"something new\")\n",
    "print(string4)"
   ]
  }
 ],
 "metadata": {
  "kernelspec": {
   "display_name": "Python 3",
   "language": "python",
   "name": "python3"
  },
  "language_info": {
   "codemirror_mode": {
    "name": "ipython",
    "version": 3
   },
   "file_extension": ".py",
   "mimetype": "text/x-python",
   "name": "python",
   "nbconvert_exporter": "python",
   "pygments_lexer": "ipython3",
   "version": "3.13.0"
  }
 },
 "nbformat": 4,
 "nbformat_minor": 2
}
