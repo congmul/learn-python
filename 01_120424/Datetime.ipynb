{
 "cells": [
  {
   "cell_type": "markdown",
   "metadata": {},
   "source": [
    "# Datetime Module"
   ]
  },
  {
   "cell_type": "code",
   "execution_count": 16,
   "metadata": {},
   "outputs": [
    {
     "name": "stdout",
     "output_type": "stream",
     "text": [
      "2024-12-04 15:51:44.761475\n",
      "2024-12-04\n",
      "<class 'datetime.date'>\n"
     ]
    }
   ],
   "source": [
    "\n",
    "\n",
    "# This will help us create Datetime objects.\n",
    "# Limited support for timezones\n",
    "import datetime\n",
    "\n",
    "# Formatting: Year, month, day, hour, minute, second, microsecond\n",
    "\n",
    "print(datetime.datetime.now())\n",
    "print(datetime.date.today())\n",
    "\n",
    "print(type(datetime.date.today()))\n"
   ]
  },
  {
   "cell_type": "code",
   "execution_count": 11,
   "metadata": {},
   "outputs": [
    {
     "name": "stdout",
     "output_type": "stream",
     "text": [
      "Wednesday\n",
      "Wed\n",
      "12/04/2024\n"
     ]
    }
   ],
   "source": [
    "# Formatting a datetime object\n",
    "\n",
    "now = datetime.datetime.now()\n",
    "\n",
    "# full day\n",
    "print(now.strftime('%A'))\n",
    "# short day\n",
    "print(now.strftime('%a'))\n",
    "print(now.strftime('%m/%d/%Y'))"
   ]
  },
  {
   "cell_type": "code",
   "execution_count": 15,
   "metadata": {},
   "outputs": [
    {
     "name": "stdout",
     "output_type": "stream",
     "text": [
      "2024-06-17 00:00:00\n"
     ]
    }
   ],
   "source": [
    "# Parse a string with datetime module\n",
    "\n",
    "date = \"2024-06-17\"\n",
    "date_object = datetime.datetime.strptime(date, \"%Y-%m-%d\")\n",
    "print(date_object)\n",
    "\n",
    "\n"
   ]
  },
  {
   "cell_type": "code",
   "execution_count": 18,
   "metadata": {},
   "outputs": [
    {
     "name": "stdout",
     "output_type": "stream",
     "text": [
      "1733356375.624667\n"
     ]
    }
   ],
   "source": [
    "# Time module\n",
    "# Unix Time\n",
    "# Number of seconds since January 1st, 1970 UTC\n",
    "\n",
    "import time\n",
    "\n",
    "print(time.time())"
   ]
  }
 ],
 "metadata": {
  "kernelspec": {
   "display_name": "Python 3",
   "language": "python",
   "name": "python3"
  },
  "language_info": {
   "codemirror_mode": {
    "name": "ipython",
    "version": 3
   },
   "file_extension": ".py",
   "mimetype": "text/x-python",
   "name": "python",
   "nbconvert_exporter": "python",
   "pygments_lexer": "ipython3",
   "version": "3.13.0"
  }
 },
 "nbformat": 4,
 "nbformat_minor": 2
}
