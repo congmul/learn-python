{
 "cells": [
  {
   "cell_type": "markdown",
   "metadata": {},
   "source": [
    "# Types of Collections\n",
    "# Tuples, Lists, Dictionaries, Set"
   ]
  },
  {
   "cell_type": "code",
   "execution_count": 24,
   "metadata": {},
   "outputs": [
    {
     "name": "stdout",
     "output_type": "stream",
     "text": [
      "['George']\n",
      "['George', 'Jim']\n",
      "['Jimbo', 'Jim', 'George']\n",
      "['George', 'Jim', 'Jimbo']\n",
      "['Jimbo', 'Jim', 'George']\n"
     ]
    }
   ],
   "source": [
    "my_list = [\"George\", \"Jim\", \"Jimbo\"]\n",
    "\n",
    "print(my_list[0:1])\n",
    "print(my_list[0:2])\n",
    "\n",
    "# Easiest way to reverse a list\n",
    "print(list(reversed(my_list)))\n",
    "print(my_list)\n",
    "print(my_list[::-1])"
   ]
  },
  {
   "cell_type": "code",
   "execution_count": 25,
   "metadata": {},
   "outputs": [
    {
     "name": "stdout",
     "output_type": "stream",
     "text": [
      "{1, 2, 3, 4}\n",
      "{'d', 't', 'i', 'a', ' ', 'n', 's', 'T', 'h'}\n"
     ]
    }
   ],
   "source": [
    "# Sets\n",
    "# Unordered\n",
    "\n",
    "string1 = \"This and this and and this\"\n",
    "\n",
    "my_set = {1, 2, 3, 4, 4} # No duplicated value accepted\n",
    "print(my_set)\n",
    "print(set(string1)) # Duplicated characters are removed.\n"
   ]
  },
  {
   "cell_type": "code",
   "execution_count": 32,
   "metadata": {},
   "outputs": [
    {
     "name": "stdout",
     "output_type": "stream",
     "text": [
      "[0, 1, 2, 3, 4, 5, 6, 7, 8, 9]\n",
      "[0, 1, 2, 3, 4, 5, 6, 7, 8] 9\n"
     ]
    }
   ],
   "source": [
    "# List methods\n",
    "\n",
    "# Append adds to the end of a list\n",
    "another_list = []\n",
    "\n",
    "for i in range(10):\n",
    "    another_list.append(i)\n",
    "\n",
    "print(another_list)\n",
    "\n",
    "# Pop takes off the end of a list\n",
    "x = another_list.pop()\n",
    "print(another_list, x)\n"
   ]
  },
  {
   "cell_type": "code",
   "execution_count": 2,
   "metadata": {},
   "outputs": [
    {
     "name": "stdout",
     "output_type": "stream",
     "text": [
      "[1, 2, 10, 4, 5]\n",
      "[1, 2, 4, 5]\n",
      "[1, 2, 10, 4, 5]\n"
     ]
    }
   ],
   "source": [
    "# List indexing\n",
    "list3 = [1, 2, 3, 4, 5]\n",
    "list3[2] = 10\n",
    "\n",
    "print(list3)\n",
    "\n",
    "# Remove function\n",
    "list3.remove(10) # input \"value\"\n",
    "print(list3)\n",
    "\n",
    "# Insert\n",
    "list3.insert(2, 10) # insert(index, value)\n",
    "print(list3)"
   ]
  },
  {
   "cell_type": "code",
   "execution_count": 42,
   "metadata": {},
   "outputs": [
    {
     "name": "stdout",
     "output_type": "stream",
     "text": [
      "[1, 2, 10, 4, 5, 6, 7, 8, 9, 11]\n"
     ]
    }
   ],
   "source": [
    "list4 = [6, 7, 8, 9, 11]\n",
    "print(list3 + list4) # concat both list"
   ]
  },
  {
   "cell_type": "code",
   "execution_count": 51,
   "metadata": {},
   "outputs": [
    {
     "name": "stdout",
     "output_type": "stream",
     "text": [
      "1\n",
      "2\n",
      "10\n",
      "4\n",
      "5\n",
      "\n",
      "==========\n",
      "\n",
      "0\n",
      "1\n",
      "2\n",
      "3\n",
      "4\n",
      "\n",
      "==========\n",
      "\n",
      "0: 1\n",
      "1: 2\n",
      "2: 10\n",
      "3: 4\n",
      "4: 5\n"
     ]
    }
   ],
   "source": [
    "for value in list3:\n",
    "    print(value)\n",
    "\n",
    "print(\"\\n==========\\n\")\n",
    "for index in range(len(list3)):\n",
    "    print(index)\n",
    "\n",
    "print(\"\\n==========\\n\")\n",
    "for index, value in enumerate(list3):\n",
    "    print(f\"{index}: {value}\")"
   ]
  },
  {
   "cell_type": "code",
   "execution_count": 52,
   "metadata": {},
   "outputs": [
    {
     "name": "stdout",
     "output_type": "stream",
     "text": [
      "['Jehyun', 'Justin', 'Robert']\n",
      "['JEHYUN', 'JUSTIN', 'ROBERT']\n"
     ]
    }
   ],
   "source": [
    "names = [\"Jehyun\", \"Justin\", \"Robert\"]\n",
    " # it will be read from back.\n",
    " # run for loop to grab name and make it uppercase, then put it into the list.\n",
    "cap_names = [name.upper() for name in names]\n",
    "\n",
    "print(names)\n",
    "print(cap_names)"
   ]
  },
  {
   "cell_type": "code",
   "execution_count": 56,
   "metadata": {},
   "outputs": [
    {
     "name": "stdout",
     "output_type": "stream",
     "text": [
      "['Jehyun', 'Robert']\n"
     ]
    }
   ],
   "source": [
    "e_names = [name for name in names if 'e' in name ] # it will be read from back.\n",
    "print(e_names)"
   ]
  },
  {
   "cell_type": "code",
   "execution_count": 8,
   "metadata": {},
   "outputs": [
    {
     "name": "stdout",
     "output_type": "stream",
     "text": [
      "[1, 50, 10, 23, 1, 5]\n",
      "[1, 1, 5, 10, 23, 50]\n",
      "[1, 1, 5, 10, 23, 50]\n",
      "[1, 50, 10, 23, 1, 5]\n"
     ]
    }
   ],
   "source": [
    "# Sorting\n",
    "sort_list = [1, 50, 10, 23, 1, 5]\n",
    "print(sort_list)\n",
    "sort_list.sort()\n",
    "print(sort_list)\n",
    "\n",
    "sort_list2 = [1, 50, 10, 23, 1, 5]\n",
    "# Not modify original list\n",
    "print(sorted(sort_list2))\n",
    "print(sort_list2)"
   ]
  },
  {
   "cell_type": "code",
   "execution_count": 11,
   "metadata": {},
   "outputs": [
    {
     "name": "stdout",
     "output_type": "stream",
     "text": [
      "{'name': 'Jehyun', 'position': 'fullstact'}\n"
     ]
    }
   ],
   "source": [
    "# Dictionary\n",
    "dict1 = {\n",
    "    \"name\": \"Jehyun\",\n",
    "    \"position\": \"fullstact\"\n",
    "}\n",
    "print(dict1)"
   ]
  },
  {
   "cell_type": "code",
   "execution_count": 17,
   "metadata": {},
   "outputs": [
    {
     "name": "stdout",
     "output_type": "stream",
     "text": [
      "name Jehyun\n",
      "position fullstact\n",
      "name\n",
      "position\n",
      "Jehyun\n",
      "fullstact\n"
     ]
    }
   ],
   "source": [
    "# Iterating through a dictionary\n",
    "\n",
    "for k, v in dict1.items():\n",
    "    print(k, v)\n",
    "\n",
    "for key in dict1.keys():\n",
    "    print(key)\n",
    "\n",
    "for value in dict1.values():\n",
    "    print(value)"
   ]
  },
  {
   "cell_type": "code",
   "execution_count": 23,
   "metadata": {},
   "outputs": [
    {
     "name": "stdout",
     "output_type": "stream",
     "text": [
      "Person1 {'name': 'jehyun', 'position': 'fullstack'}\n",
      "Person2 {'name': 'Justin', 'position': 'fullstack'}\n",
      "jehyun\n",
      "True\n"
     ]
    }
   ],
   "source": [
    "dict2 = {\n",
    "    \"Person1\": {\n",
    "        \"name\": \"jehyun\", \n",
    "        \"position\": \"fullstack\"\n",
    "    },\n",
    "    \"Person2\": {\n",
    "        \"name\": \"Justin\", \n",
    "        \"position\": \"fullstack\"\n",
    "    }\n",
    "}\n",
    "\n",
    "for k, v in dict2.items():\n",
    "    print(k, v)\n",
    "\n",
    "print(dict2[\"Person1\"][\"name\"])\n",
    "\n",
    "print(type(dict2) == dict)"
   ]
  },
  {
   "cell_type": "code",
   "execution_count": 26,
   "metadata": {},
   "outputs": [
    {
     "name": "stdout",
     "output_type": "stream",
     "text": [
      "('Justin', 'Lee')\n",
      "Lee\n",
      "Justin\n",
      "Lee\n"
     ]
    }
   ],
   "source": [
    "# Tuple \n",
    "# it is like const, never modify\n",
    "# Faster than List\n",
    "\n",
    "my_tuple = (\"Justin\", \"Lee\")\n",
    "print(my_tuple)\n",
    "print(my_tuple[1])\n",
    "\n",
    "for i in my_tuple:\n",
    "    print(i)\n",
    "\n",
    "# my_tuple[0] = 15 # You can't update specific index."
   ]
  },
  {
   "cell_type": "code",
   "execution_count": null,
   "metadata": {},
   "outputs": [],
   "source": []
  }
 ],
 "metadata": {
  "kernelspec": {
   "display_name": "Python 3",
   "language": "python",
   "name": "python3"
  },
  "language_info": {
   "codemirror_mode": {
    "name": "ipython",
    "version": 3
   },
   "file_extension": ".py",
   "mimetype": "text/x-python",
   "name": "python",
   "nbconvert_exporter": "python",
   "pygments_lexer": "ipython3",
   "version": "3.13.0"
  }
 },
 "nbformat": 4,
 "nbformat_minor": 2
}
