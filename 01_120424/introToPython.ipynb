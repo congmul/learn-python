{
 "cells": [
  {
   "cell_type": "markdown",
   "metadata": {},
   "source": [
    "# Intro to Python\n",
    "## Data Types and Basic Functions"
   ]
  },
  {
   "cell_type": "code",
   "execution_count": 4,
   "metadata": {},
   "outputs": [
    {
     "name": "stdout",
     "output_type": "stream",
     "text": [
      "This is a String\n",
      "I'm in a variable now\n",
      "On Multiple lines\n",
      "Yay\n"
     ]
    }
   ],
   "source": [
    "# Int, String, Float, Boolean, Char, Complex\n",
    "\n",
    "string_var = \"\"\"I'm in a variable now\n",
    "On Multiple lines\n",
    "Yay\"\"\"\n",
    "print(\"This is a String\")\n",
    "print(string_var)"
   ]
  },
  {
   "cell_type": "code",
   "execution_count": 5,
   "metadata": {},
   "outputs": [],
   "source": [
    "int_var = 4\n",
    "\n",
    "float_var = 4.521\n",
    "\n",
    "complex_var = 3 + 3j"
   ]
  },
  {
   "cell_type": "code",
   "execution_count": 2,
   "metadata": {},
   "outputs": [
    {
     "name": "stdout",
     "output_type": "stream",
     "text": [
      "30\n",
      "10\n",
      "2.0\n",
      "10240000000000\n",
      "0\n"
     ]
    }
   ],
   "source": [
    "x = 20\n",
    "y = 10\n",
    "print(x + y)\n",
    "print(x - y)\n",
    "print(x / y)\n",
    "# exponent\n",
    "print(x**y)\n",
    "print(x%y)\n"
   ]
  },
  {
   "cell_type": "code",
   "execution_count": 3,
   "metadata": {},
   "outputs": [
    {
     "name": "stdout",
     "output_type": "stream",
     "text": [
      "Even\n"
     ]
    }
   ],
   "source": [
    "# Mod can show us even and odd\n",
    "\n",
    "x = 17\n",
    "\n",
    "if(x&2 == 0):\n",
    "    print(\"Even\")\n",
    "else:\n",
    "    print(\"odd\")"
   ]
  },
  {
   "cell_type": "code",
   "execution_count": null,
   "metadata": {},
   "outputs": [],
   "source": [
    "# Collection Types\n",
    "# List, Dictionary, Set, Trees, Tuple"
   ]
  },
  {
   "cell_type": "code",
   "execution_count": 8,
   "metadata": {},
   "outputs": [
    {
     "name": "stdout",
     "output_type": "stream",
     "text": [
      "True\n",
      "False\n",
      "false\n"
     ]
    }
   ],
   "source": [
    "# Boolean\n",
    "# True or False\n",
    "\n",
    "truth_var = True\n",
    "false_var = False\n",
    "Null_var = None\n",
    "\n",
    "print(truth_var)\n",
    "print(false_var)\n",
    "\n",
    "if(0):\n",
    "    print('true')\n",
    "else:\n",
    "    print('false')"
   ]
  },
  {
   "cell_type": "code",
   "execution_count": 14,
   "metadata": {},
   "outputs": [
    {
     "name": "stdout",
     "output_type": "stream",
     "text": [
      "<class 'int'>\n",
      "<class 'str'>\n"
     ]
    }
   ],
   "source": [
    "# Casting Variables\n",
    "\n",
    "x = int(2.23)\n",
    "y = str(2.23)\n",
    "\n",
    "print(type(x))\n",
    "print(type(y))"
   ]
  },
  {
   "cell_type": "code",
   "execution_count": 19,
   "metadata": {},
   "outputs": [
    {
     "name": "stdout",
     "output_type": "stream",
     "text": [
      "done\n"
     ]
    }
   ],
   "source": [
    "# Classes\n",
    "\n",
    "class Animal:\n",
    "    # constructor\n",
    "    def __init__(self, age, name):\n",
    "        age = 0\n",
    "        name = \"Default\"\n",
    "if __name__ == \"__main__\":\n",
    "    print(\"done\")\n"
   ]
  }
 ],
 "metadata": {
  "kernelspec": {
   "display_name": "Python 3",
   "language": "python",
   "name": "python3"
  },
  "language_info": {
   "codemirror_mode": {
    "name": "ipython",
    "version": 3
   },
   "file_extension": ".py",
   "mimetype": "text/x-python",
   "name": "python",
   "nbconvert_exporter": "python",
   "pygments_lexer": "ipython3",
   "version": "3.13.0"
  }
 },
 "nbformat": 4,
 "nbformat_minor": 2
}
