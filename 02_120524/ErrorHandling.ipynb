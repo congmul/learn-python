{
 "cells": [
  {
   "cell_type": "code",
   "execution_count": 1,
   "metadata": {},
   "outputs": [],
   "source": [
    "# Error Handling is handled in Try/Catch Blocks\n"
   ]
  },
  {
   "cell_type": "code",
   "execution_count": 4,
   "metadata": {},
   "outputs": [
    {
     "name": "stdout",
     "output_type": "stream",
     "text": [
      "num is not defined\n"
     ]
    }
   ],
   "source": [
    "# Except catches all exceptions\n",
    "\n",
    "try:\n",
    "    print(num)\n",
    "except:\n",
    "    print(\"num is not defined\")"
   ]
  },
  {
   "cell_type": "code",
   "execution_count": 7,
   "metadata": {},
   "outputs": [
    {
     "name": "stdout",
     "output_type": "stream",
     "text": [
      "File Not Found\n"
     ]
    }
   ],
   "source": [
    "# We can get specific with it\n",
    "# We can giveit specific exceptions to watch for\n",
    "\n",
    "try:\n",
    "    f = open(\"./data/example.txt\")\n",
    "    f.close()\n",
    "except IOError:\n",
    "    print(\"File Not Found\")"
   ]
  },
  {
   "cell_type": "code",
   "execution_count": 12,
   "metadata": {},
   "outputs": [
    {
     "name": "stdout",
     "output_type": "stream",
     "text": [
      "Cannot Divide by zero\n"
     ]
    }
   ],
   "source": [
    "x = 3\n",
    "y = 0\n",
    "\n",
    "try:\n",
    "    print(x/y)\n",
    "except TypeError:\n",
    "    print(\"One is NaN\")\n",
    "except ArithmeticError:\n",
    "    print(\"Cannot Divide by zero\")\n"
   ]
  },
  {
   "cell_type": "code",
   "execution_count": 15,
   "metadata": {},
   "outputs": [
    {
     "name": "stdout",
     "output_type": "stream",
     "text": [
      "X needs to be a number\n"
     ]
    }
   ],
   "source": [
    "x = \"NaN\"\n",
    "try:\n",
    "    if not type(x) is int:\n",
    "        raise TypeError(\"X needs to be a number\")\n",
    "except TypeError as e:\n",
    "    print(e)"
   ]
  }
 ],
 "metadata": {
  "kernelspec": {
   "display_name": "Python 3",
   "language": "python",
   "name": "python3"
  },
  "language_info": {
   "codemirror_mode": {
    "name": "ipython",
    "version": 3
   },
   "file_extension": ".py",
   "mimetype": "text/x-python",
   "name": "python",
   "nbconvert_exporter": "python",
   "pygments_lexer": "ipython3",
   "version": "3.13.0"
  }
 },
 "nbformat": 4,
 "nbformat_minor": 2
}
