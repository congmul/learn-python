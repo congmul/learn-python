{
 "cells": [
  {
   "cell_type": "code",
   "execution_count": 1,
   "metadata": {},
   "outputs": [],
   "source": [
    "# Regular Expression (RegEx)\n",
    "\n",
    "# Powerful text pattern recognition\n",
    "# Tricky to use\n",
    "# Use it to find patterns within our strings\n",
    "\n",
    "import re"
   ]
  },
  {
   "cell_type": "code",
   "execution_count": 9,
   "metadata": {},
   "outputs": [
    {
     "name": "stdout",
     "output_type": "stream",
     "text": [
      "<re.Match object; span=(0, 22), match='Welcome to Skillstorm!'>\n"
     ]
    }
   ],
   "source": [
    "# re methods\n",
    "# re.findall() - this will return a list of match objects\n",
    "# re.search() - this will return the first match\n",
    "# re.split() - return a list where the string has been split at the match\n",
    "# re.sub() - replace any number of matches whithin our string\n",
    "\n",
    "string = \"Welcome to Skillstorm!\"\n",
    "match = re.search(\"^Welcome.*storm!$\", string)\n",
    "\n",
    "print(match)"
   ]
  },
  {
   "cell_type": "code",
   "execution_count": 15,
   "metadata": {},
   "outputs": [
    {
     "name": "stdout",
     "output_type": "stream",
     "text": [
      "ሱ\n",
      "\\u1231\n"
     ]
    }
   ],
   "source": [
    "# Regex Operators\n",
    "# \\ is an escape character\n",
    "# We can use a raw string - r\"string\"\n",
    "\n",
    "print(\"\\u1231\")\n",
    "print(r\"\\u1231\")\n",
    "\n",
    "# \\A or ^ - Matches the beginning of the string\n",
    "# \\b - match characters at the beginning or end of a word.\n",
    "# \\B - match characters NOT at the beginning or end of a word \n",
    "# \\d - matches a digit between 0-9\n",
    "# \\D - matches NOT a digit between 0-9\n",
    "# \\s - matches a whitespace character\n",
    "# \\S - matches NOT a whitespace character\n",
    "# \\w - matches a-z, A-Z, 0-9, _(underscore)\n",
    "# \\W - matches NOT a-z, A-Z, 0-9, _(underscore) - matches any non-word character\n",
    "# \\Z or $ - matches at the end of the string\n",
    "\n",
    "# Meta Characters\n",
    "# [] - Matches a set of characters ex) [0-9]\n",
    "# . - any ONE character\n",
    "# ^ - when used inside [] it becomes NOT operator ex) [^0-9a-z] - NOT matches 0-9 and a-z\n",
    "# $ - ends with\n",
    "# * - Zero or more of\n",
    "# + - One or more of\n",
    "# ? - Zero or one of\n",
    "# {n} - n occurences of ex)skil{3} -> \"l\" should be three times.\n",
    "# | - Either or\n",
    "# () - Capture and group\n"
   ]
  },
  {
   "cell_type": "code",
   "execution_count": 17,
   "metadata": {},
   "outputs": [
    {
     "name": "stdout",
     "output_type": "stream",
     "text": [
      "['Welcome', 'to', 'Skillstorm']\n",
      "['Welcome', 'to', 'Skillstorm!']\n"
     ]
    }
   ],
   "source": [
    "word_list = re.findall(r\"\\w+\", string)\n",
    "print(word_list)\n",
    "\n",
    "split_list = re.split(' ', string)\n",
    "print(split_list)"
   ]
  }
 ],
 "metadata": {
  "kernelspec": {
   "display_name": "Python 3",
   "language": "python",
   "name": "python3"
  },
  "language_info": {
   "codemirror_mode": {
    "name": "ipython",
    "version": 3
   },
   "file_extension": ".py",
   "mimetype": "text/x-python",
   "name": "python",
   "nbconvert_exporter": "python",
   "pygments_lexer": "ipython3",
   "version": "3.13.0"
  }
 },
 "nbformat": 4,
 "nbformat_minor": 2
}
