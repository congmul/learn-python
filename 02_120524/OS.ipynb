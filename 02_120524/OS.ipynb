{
 "cells": [
  {
   "cell_type": "code",
   "execution_count": 2,
   "metadata": {},
   "outputs": [
    {
     "name": "stdout",
     "output_type": "stream",
     "text": [
      "/Users/jehyunjung/Documents/personal-projects/tutorial/learn-python/02_120524\n"
     ]
    }
   ],
   "source": [
    "# We can interact directly with our Operating System through Python\n",
    "import os\n",
    "\n",
    "# grab our working directory path\n",
    "cwd = os.getcwd()\n",
    "print(cwd)"
   ]
  },
  {
   "cell_type": "code",
   "execution_count": 5,
   "metadata": {},
   "outputs": [
    {
     "name": "stdout",
     "output_type": "stream",
     "text": [
      "/Users/jehyunjung/Documents/personal-projects/tutorial/learn-python/01_120424\n"
     ]
    }
   ],
   "source": [
    "new_directroy = \"/Users/jehyunjung/Documents/personal-projects/tutorial/learn-python/01_120424\"\n",
    "# change dir where you are in now\n",
    "os.chdir(new_directroy)\n",
    "\n",
    "cwd = os.getcwd()\n",
    "print(cwd)"
   ]
  },
  {
   "cell_type": "code",
   "execution_count": 18,
   "metadata": {},
   "outputs": [],
   "source": [
    "# We can create new directories\n",
    "# Cannot create nested directories with mkdir\n",
    "\n",
    "base_path = \"/Users/jehyunjung/Documents/personal-projects/tutorial/learn-python/02_120524\"\n",
    "new_dir = \"/demo\"\n",
    "\n",
    "os.mkdir(base_path + new_dir)"
   ]
  },
  {
   "cell_type": "code",
   "execution_count": 19,
   "metadata": {},
   "outputs": [],
   "source": [
    "# We can nest the directories if we use the \"makedirs\"\n",
    "\n",
    "base_path = \"/Users/jehyunjung/Documents/personal-projects/tutorial/learn-python/02_120524\"\n",
    "new_dir = \"/demo/new-folder/nested-folder\"\n",
    "\n",
    "os.makedirs(base_path + new_dir)"
   ]
  },
  {
   "cell_type": "code",
   "execution_count": 21,
   "metadata": {},
   "outputs": [
    {
     "name": "stdout",
     "output_type": "stream",
     "text": [
      "['home', 'usr', 'bin', 'sbin', '.file', 'etc', 'var', 'Library', 'System', '.VolumeIcon.icns', 'private', '.vol', 'Users', 'Applications', 'opt', 'dev', 'Volumes', 'tmp', 'cores']\n"
     ]
    }
   ],
   "source": [
    "# If we need all of our directories and files in a list\n",
    "root = '/'\n",
    "dirs = os.listdir(root)\n",
    "print(dirs)"
   ]
  },
  {
   "cell_type": "code",
   "execution_count": 23,
   "metadata": {},
   "outputs": [
    {
     "ename": "OSError",
     "evalue": "[Errno 66] Directory not empty: '/Users/jehyunjung/Documents/personal-projects/tutorial/learn-python/02_120524/demo'",
     "output_type": "error",
     "traceback": [
      "\u001b[0;31m---------------------------------------------------------------------------\u001b[0m",
      "\u001b[0;31mOSError\u001b[0m                                   Traceback (most recent call last)",
      "Cell \u001b[0;32mIn[23], line 4\u001b[0m\n\u001b[1;32m      1\u001b[0m new_dir \u001b[38;5;241m=\u001b[39m \u001b[38;5;124m'\u001b[39m\u001b[38;5;124m/demo\u001b[39m\u001b[38;5;124m'\u001b[39m\n\u001b[1;32m      3\u001b[0m \u001b[38;5;66;03m# It can remove only empty directory\u001b[39;00m\n\u001b[0;32m----> 4\u001b[0m \u001b[43mos\u001b[49m\u001b[38;5;241;43m.\u001b[39;49m\u001b[43mrmdir\u001b[49m\u001b[43m(\u001b[49m\u001b[43mbase_path\u001b[49m\u001b[43m \u001b[49m\u001b[38;5;241;43m+\u001b[39;49m\u001b[43m \u001b[49m\u001b[43mnew_dir\u001b[49m\u001b[43m)\u001b[49m\n",
      "\u001b[0;31mOSError\u001b[0m: [Errno 66] Directory not empty: '/Users/jehyunjung/Documents/personal-projects/tutorial/learn-python/02_120524/demo'"
     ]
    }
   ],
   "source": [
    "# Remove files/empty directry from folders\n",
    "\n",
    "new_dir = '/demo'\n",
    "\n",
    "# It can remove only empty directory or single file\n",
    "os.rmdir(base_path + new_dir)"
   ]
  },
  {
   "cell_type": "code",
   "execution_count": 24,
   "metadata": {},
   "outputs": [
    {
     "name": "stdout",
     "output_type": "stream",
     "text": [
      "/Users/jehyunjung/Documents/personal-projects/tutorial/learn-python/01_120424\n",
      "[]\n",
      "['Datetime.ipynb', 'Collections.ipynb', 'StringOps.ipynb', 'introToPython.ipynb']\n"
     ]
    }
   ],
   "source": [
    "# We can read multile files and directories\n",
    "for root, dirs, files in os.walk(os.getcwd()):\n",
    "    print(root)\n",
    "    print(dirs)\n",
    "    print(files)"
   ]
  }
 ],
 "metadata": {
  "kernelspec": {
   "display_name": "Python 3",
   "language": "python",
   "name": "python3"
  },
  "language_info": {
   "codemirror_mode": {
    "name": "ipython",
    "version": 3
   },
   "file_extension": ".py",
   "mimetype": "text/x-python",
   "name": "python",
   "nbconvert_exporter": "python",
   "pygments_lexer": "ipython3",
   "version": "3.13.0"
  }
 },
 "nbformat": 4,
 "nbformat_minor": 2
}
