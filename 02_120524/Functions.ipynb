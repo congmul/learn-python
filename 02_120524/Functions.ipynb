{
 "cells": [
  {
   "cell_type": "code",
   "execution_count": 23,
   "metadata": {},
   "outputs": [],
   "source": [
    "# Functions\n",
    "# Procedure that is repeatable\n",
    "# Takes inputs and can produce an output\n",
    "\n",
    "def calculate_area(length: int = 1, width: int = 1) -> int:\n",
    "    if(type(length) != int | type(width) != int): \n",
    "        raise TypeError(\"length or width have to be int type\")\n",
    "    return length * width"
   ]
  },
  {
   "cell_type": "code",
   "execution_count": 24,
   "metadata": {},
   "outputs": [
    {
     "name": "stdout",
     "output_type": "stream",
     "text": [
      "50\n",
      "50\n",
      "1\n"
     ]
    }
   ],
   "source": [
    "print(calculate_area(5, 10))\n",
    "\n",
    "#  order doesn't matterß\n",
    "print(calculate_area(width = 10, length = 5))\n",
    "\n",
    "\n",
    "print(calculate_area())"
   ]
  },
  {
   "cell_type": "code",
   "execution_count": 25,
   "metadata": {},
   "outputs": [],
   "source": [
    "# Method Overriding - Override a parents method\n",
    "\n",
    "class Shape:\n",
    "    def area(length, width):\n",
    "        return length * width\n",
    "    \n",
    "\n",
    "class Triangle(Shape): # extends Shape in Python\n",
    "    def area(length, width, height):\n",
    "        return 0.5 * height * length * width"
   ]
  },
  {
   "cell_type": "code",
   "execution_count": 28,
   "metadata": {},
   "outputs": [
    {
     "name": "stdout",
     "output_type": "stream",
     "text": [
      "12\n",
      "5\n"
     ]
    }
   ],
   "source": [
    "# Method Overloading - is having two of the same methods with different arguments\n",
    "\n",
    "def method_1(x, y):\n",
    "    return x + y\n",
    "\n",
    "def method_1(x, y, z):\n",
    "    return x + y + z\n",
    "\n",
    "# It will overwright \"method_1\", there is no overloading in Python, so need to declare function using \"None\"\n",
    "def method_2(x, y, z = None):\n",
    "    if(z):\n",
    "        return x * y * z\n",
    "    return x * y\n",
    "\n",
    "print(method_1(3, 4, 5))\n",
    "print(method_2(1, 5))"
   ]
  },
  {
   "cell_type": "code",
   "execution_count": 31,
   "metadata": {},
   "outputs": [
    {
     "name": "stdout",
     "output_type": "stream",
     "text": [
      "<class 'tuple'>\n",
      "('fruit', 'cabbage', 'soda', 'Shampoo')\n",
      "We still have to pick up 4 from the store\n"
     ]
    }
   ],
   "source": [
    "# If we don't know how many arguments will be passed in we use *args\n",
    "def shopping_list(*items):\n",
    "    print(type(items))\n",
    "    print(items)\n",
    "    print(f\"We still have to pick up {len(items)} from the store\")\n",
    "\n",
    "shopping_list(\"fruit\", \"cabbage\", \"soda\", \"Shampoo\")"
   ]
  },
  {
   "cell_type": "code",
   "execution_count": 36,
   "metadata": {},
   "outputs": [
    {
     "name": "stdout",
     "output_type": "stream",
     "text": [
      "<class 'dict'>\n",
      "{'food': 'fruit', 'veggie': 'cabbage', 'drink': 'soda', 'personal': 'Shampoo'}\n",
      "We still have to pick up 4 from the store\n"
     ]
    }
   ],
   "source": [
    "# We also have **Kwargs\n",
    "def shopping_list(**items):\n",
    "    print(type(items))\n",
    "    print(items)\n",
    "    print(f\"We still have to pick up {len(items)} from the store\")\n",
    "\n",
    "shopping_list(food = \"fruit\", veggie = \"cabbage\", drink = \"soda\", personal = \"Shampoo\")"
   ]
  },
  {
   "cell_type": "code",
   "execution_count": 44,
   "metadata": {},
   "outputs": [
    {
     "name": "stdout",
     "output_type": "stream",
     "text": [
      "34\n",
      "[0, 1, 1, 2, 3, 5, 8, 13, 21, 34]\n"
     ]
    }
   ],
   "source": [
    "# Recursive Functions\n",
    "def fibonacci(n):\n",
    "    if (n <= 1):\n",
    "        return n\n",
    "    return fibonacci(n - 1) + fibonacci(n - 2)\n",
    "\n",
    "print(fibonacci(9))\n",
    "print([fibonacci(n) for n in range(10)])"
   ]
  },
  {
   "cell_type": "code",
   "execution_count": 47,
   "metadata": {},
   "outputs": [
    {
     "name": "stdout",
     "output_type": "stream",
     "text": [
      "[2, 4, 6, 8]\n"
     ]
    },
    {
     "data": {
      "text/plain": [
       "11"
      ]
     },
     "execution_count": 47,
     "metadata": {},
     "output_type": "execute_result"
    }
   ],
   "source": [
    "# lambda function which is going to be one line function\n",
    "# Anonymous function\n",
    "\n",
    "numbers = [1, 2, 3, 4, 5, 6, 7, 8, 9]\n",
    "even_numbers = list(filter(lambda x: (x % 2 == 0), numbers))\n",
    "print(even_numbers)\n",
    "\n",
    "first_lambda_func = lambda x: (x + 1)\n",
    "first_lambda_func(10)\n"
   ]
  },
  {
   "cell_type": "code",
   "execution_count": null,
   "metadata": {},
   "outputs": [],
   "source": []
  }
 ],
 "metadata": {
  "kernelspec": {
   "display_name": "Python 3",
   "language": "python",
   "name": "python3"
  },
  "language_info": {
   "codemirror_mode": {
    "name": "ipython",
    "version": 3
   },
   "file_extension": ".py",
   "mimetype": "text/x-python",
   "name": "python",
   "nbconvert_exporter": "python",
   "pygments_lexer": "ipython3",
   "version": "3.13.0"
  }
 },
 "nbformat": 4,
 "nbformat_minor": 2
}
