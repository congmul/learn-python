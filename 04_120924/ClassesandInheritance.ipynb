{
 "cells": [
  {
   "cell_type": "code",
   "execution_count": 44,
   "metadata": {},
   "outputs": [],
   "source": [
    "# Classes\n",
    "\n",
    "# Everything in python is an object\n",
    "\n",
    "class Person:\n",
    "    population = 0\n",
    "    # Constructor - Thunder medthod: double underscore\n",
    "    def __init__(self, name, age, **kwargs):\n",
    "        self.name = name\n",
    "        self.age = age\n",
    "        Person.population += 1\n",
    "    def __del__(self):\n",
    "        del self\n",
    "        Person.population -= 1\n",
    "\n",
    "    # Return when printing instance\n",
    "    def __str__(self):\n",
    "        return f\"{self.name} ({self.age})\"\n",
    "    \n",
    "    # Return from instance\n",
    "    def __repr__(self):\n",
    "        return f\"{self.name} is {self.age}\"\n",
    "\n",
    "    def __eq__(self, other):\n",
    "        if(self.name == other.name) and (self.age == other.age):\n",
    "            return True\n",
    "        else:\n",
    "            return False\n",
    "\n",
    "    def getAge(self):\n",
    "        return self.age\n",
    "    \n",
    "    @classmethod \n",
    "    def get_population(cls):\n",
    "        return cls.population\n",
    "        \n",
    "    @staticmethod\n",
    "    def isAdult(x):\n",
    "        return x > 18"
   ]
  },
  {
   "cell_type": "code",
   "execution_count": 45,
   "metadata": {},
   "outputs": [],
   "source": [
    "john = Person('John', 23)"
   ]
  },
  {
   "cell_type": "code",
   "execution_count": 46,
   "metadata": {},
   "outputs": [
    {
     "name": "stdout",
     "output_type": "stream",
     "text": [
      "23\n",
      "True\n",
      "1\n",
      "1\n"
     ]
    }
   ],
   "source": [
    "\n",
    "print(john.getAge())\n",
    "print(john.isAdult(23))\n",
    "print(john.get_population())\n",
    "print(Person.get_population())\n"
   ]
  },
  {
   "cell_type": "code",
   "execution_count": 47,
   "metadata": {},
   "outputs": [
    {
     "name": "stdout",
     "output_type": "stream",
     "text": [
      "0\n"
     ]
    }
   ],
   "source": [
    "del john\n",
    "print(Person.get_population())"
   ]
  },
  {
   "cell_type": "code",
   "execution_count": 48,
   "metadata": {},
   "outputs": [
    {
     "name": "stdout",
     "output_type": "stream",
     "text": [
      "True\n"
     ]
    }
   ],
   "source": [
    "john = Person('John 2', 13)\n",
    "john2 = Person('John 2', 13)\n",
    "\n",
    "# It is true because of thunder method, __eq__\n",
    "print(john == john2)"
   ]
  },
  {
   "cell_type": "code",
   "execution_count": 41,
   "metadata": {},
   "outputs": [
    {
     "data": {
      "text/plain": [
       "0"
      ]
     },
     "execution_count": 41,
     "metadata": {},
     "output_type": "execute_result"
    }
   ],
   "source": [
    "Person.get_population()"
   ]
  },
  {
   "cell_type": "code",
   "execution_count": 43,
   "metadata": {},
   "outputs": [
    {
     "name": "stdout",
     "output_type": "stream",
     "text": [
      "John 2 (13)\n"
     ]
    }
   ],
   "source": [
    "# Print memory address of the instance if there is no __repr__\n",
    "john2\n",
    "# return __str__ method's return\n",
    "print(john2)"
   ]
  },
  {
   "cell_type": "code",
   "execution_count": 62,
   "metadata": {},
   "outputs": [],
   "source": [
    "class Circle:\n",
    "    _pi = 3.14  # Simulates proected\n",
    "    __pi = 3.14 # Simulates private"
   ]
  },
  {
   "cell_type": "code",
   "execution_count": 63,
   "metadata": {},
   "outputs": [
    {
     "name": "stdout",
     "output_type": "stream",
     "text": [
      "3.14\n"
     ]
    },
    {
     "ename": "AttributeError",
     "evalue": "type object 'Circle' has no attribute '__pi'",
     "output_type": "error",
     "traceback": [
      "\u001b[0;31m---------------------------------------------------------------------------\u001b[0m",
      "\u001b[0;31mAttributeError\u001b[0m                            Traceback (most recent call last)",
      "Cell \u001b[0;32mIn[63], line 2\u001b[0m\n\u001b[1;32m      1\u001b[0m \u001b[38;5;28mprint\u001b[39m(Circle\u001b[38;5;241m.\u001b[39m_pi) \u001b[38;5;66;03m# accessible\u001b[39;00m\n\u001b[0;32m----> 2\u001b[0m \u001b[38;5;28mprint\u001b[39m(\u001b[43mCircle\u001b[49m\u001b[38;5;241;43m.\u001b[39;49m\u001b[43m__pi\u001b[49m) \u001b[38;5;66;03m# not accessible\u001b[39;00m\n",
      "\u001b[0;31mAttributeError\u001b[0m: type object 'Circle' has no attribute '__pi'"
     ]
    }
   ],
   "source": [
    "print(Circle._pi) # accessible\n",
    "print(Circle.__pi) # not accessible"
   ]
  },
  {
   "cell_type": "code",
   "execution_count": 64,
   "metadata": {},
   "outputs": [
    {
     "data": {
      "text/plain": [
       "3.14"
      ]
     },
     "execution_count": 64,
     "metadata": {},
     "output_type": "execute_result"
    }
   ],
   "source": [
    "circle1 = Circle()\n",
    "circle1._Circle__pi # Python doesn't have true private value"
   ]
  },
  {
   "cell_type": "code",
   "execution_count": null,
   "metadata": {},
   "outputs": [],
   "source": []
  }
 ],
 "metadata": {
  "kernelspec": {
   "display_name": ".venv",
   "language": "python",
   "name": "python3"
  },
  "language_info": {
   "codemirror_mode": {
    "name": "ipython",
    "version": 3
   },
   "file_extension": ".py",
   "mimetype": "text/x-python",
   "name": "python",
   "nbconvert_exporter": "python",
   "pygments_lexer": "ipython3",
   "version": "3.13.0"
  }
 },
 "nbformat": 4,
 "nbformat_minor": 2
}
